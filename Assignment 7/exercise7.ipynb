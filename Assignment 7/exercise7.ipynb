{
 "cells": [
  {
   "cell_type": "code",
   "execution_count": 2,
   "metadata": {},
   "outputs": [
    {
     "data": {
      "text/html": [
       "<script>\n",
       "code_show=true;\n",
       "function code_toggle() {\n",
       "if (code_show){\n",
       "$('div.input').hide();\n",
       "} else {\n",
       "$('div.input').show();\n",
       "}\n",
       "code_show = !code_show\n",
       "}\n",
       "$( document ).ready(code_toggle);\n",
       "</script>\n",
       "<form action=\"javascript:code_toggle()\"><input type=\"submit\" value=\"Click here to toggle on/off the raw code.\"></form>"
      ],
      "text/plain": [
       "<IPython.core.display.HTML object>"
      ]
     },
     "execution_count": 2,
     "metadata": {},
     "output_type": "execute_result"
    }
   ],
   "source": [
    "# This cell is used for creating a button that hides/unhides code cells to quickly look only the results.\n",
    "# Works only with Jupyter Notebooks.\n",
    "\n",
    "import os\n",
    "from IPython.display import HTML\n",
    "\n",
    "HTML('''<script>\n",
    "code_show=true;\n",
    "function code_toggle() {\n",
    "if (code_show){\n",
    "$('div.input').hide();\n",
    "} else {\n",
    "$('div.input').show();\n",
    "}\n",
    "code_show = !code_show\n",
    "}\n",
    "$( document ).ready(code_toggle);\n",
    "</script>\n",
    "<form action=\"javascript:code_toggle()\"><input type=\"submit\" value=\"Click here to toggle on/off the raw code.\"></form>''')"
   ]
  },
  {
   "cell_type": "code",
   "execution_count": 3,
   "metadata": {},
   "outputs": [
    {
     "name": "stdout",
     "output_type": "stream",
     "text": [
      "The data directory is /coursedata\n",
      "Data stored in /coursedata/exercise-07-data\n"
     ]
    }
   ],
   "source": [
    "# Description:\n",
    "#   Exercise7 notebook.\n",
    "#\n",
    "# Copyright (C) 2018 Santiago Cortes, Juha Ylioinas\n",
    "#\n",
    "# This software is distributed under the GNU General Public \n",
    "# Licence (version 2 or later); please refer to the file \n",
    "# Licence.txt, included with the software, for details.\n",
    "\n",
    "# Preparations\n",
    "import numpy as np\n",
    "\n",
    "# Select data directory\n",
    "if os.path.isdir('/coursedata'):\n",
    "    # JupyterHub\n",
    "    course_data_dir = '/coursedata'\n",
    "elif os.path.isdir('../../../coursedata'):\n",
    "    # Local installation\n",
    "    course_data_dir = '../../../coursedata'\n",
    "else:\n",
    "    # Docker\n",
    "    course_data_dir = '/home/jovyan/work/coursedata/'\n",
    "\n",
    "print('The data directory is %s' % course_data_dir)\n",
    "data_dir = os.path.join(course_data_dir, 'exercise-07-data')\n",
    "print('Data stored in %s' % data_dir)"
   ]
  },
  {
   "cell_type": "markdown",
   "metadata": {},
   "source": [
    "# CS-E4850 Computer Vision Exercise Round 7\n",
    "The problems should be solved before the exercise session and solutions returned via\n",
    "MyCourses. <br><br> For this exercise round, upload this notebook(pdf and .ipynb versions) containing your source codes (for Exercise 1) and your answer to the question of Exercise2, and all the answers to the questions of Exercise 3 (VGG practical), see part[1-3].ipynb. Note that it's not necessary to upload part1.ipynb, part2.ipynb or part3.ipynb, because all of the necessary questions related to them are contained in this notebook and you're not expected to do any coding in Exercises 2 and 3."
   ]
  },
  {
   "cell_type": "markdown",
   "metadata": {},
   "source": [
    "## Exercise 1 - Comparing  bags-of-words  with  tf-idf  weighting\n",
    "Assume  that  we  have  an  indexed  collection  of  documents  containing  the  five  terms  of the following table where the second row indicates the percentage of documents in which each term appears.<br>\n",
    "\n",
    "| term | cat | dog |mammals | mouse | pet |\n",
    "| --- | :---: | :---: | :---: | :---: | :---: |\n",
    "| **% of documents** | 5 | 20 | 2 | 10 | 60 |\n",
    "\n",
    "Now, given the query $Q=\\{mouse, cat, pet, mammals\\}$, compute the similarity between $Q$ and the following example documents $D1$, $D2$, $D3$, by using the cosine similarity measure and tf-idf weights (i.e. term frequency - inverse document frequency) for the bag-of-words histogram representations of the documents and the query.\n",
    "\n",
    "-  $D1$ = Cat is a pet, dog is a pet, and mouse may be a pet too.\n",
    "-  $D2$ = Cat, dog and mouse are all mammals.\n",
    "-  $D3$ = Cat and dog get along well, but cat may eat a mouse.\n",
    "\n",
    "Ignore other words except the five terms, which are listed in the table above. You may proceed with the following steps:\n",
    "\n",
    "a) Compute and report the inverse document frequency (idf) for each of the five terms. Use the logarithm with base 2.  (idf is the logarithm term on slide 69 of Lecture 6 where values $n_i/N$ are given in the table above.)<br>\n",
    "b) Compute the term frequencies for the query and each document. <br>\n",
    "c) Form the tf-idf weighted word occurrence histograms for the query and documents. <br>\n",
    "d) Evaluate the cosine similarity between the query and each document (i.e.\\ normalized scalar product between the weighted occurrence histograms as shown on slide 45).<br> \n",
    "e) Report the relative ranking of the documents. (You should get similarities 0.95, 0.64, and 0.63, but you need to determine which corresponds to which document.)<br>"
   ]
  },
  {
   "cell_type": "code",
   "execution_count": 34,
   "metadata": {},
   "outputs": [
    {
     "name": "stdout",
     "output_type": "stream",
     "text": [
      "idf for cat dot mammals mouse and pet  =  [4.321928094887363, 2.321928094887362, 5.643856189774724, 3.321928094887362, 0.7369655941662062]\n",
      "Tf for doc1 = [0.2, 0.0, 0.0, 0.2, 0.6]\n",
      "Tf for doc2 = [0.3333333333333333, 0.0, 0.3333333333333333, 0.3333333333333333, 0.0]\n",
      "Tf for doc3 = [0.6666666666666666, 0.0, 0.0, 0.3333333333333333, 0.0]\n",
      "Tf for query = [0.25, 0.0, 0.25, 0.25, 0.25]\n",
      "Tf-idf for doc1 = [0.8643856189774726, 0.0, 0.0, 0.6643856189774725, 0.44217935649972373]\n",
      "Tf-idf for doc2 = [1.4406426982957874, 0.0, 1.8812853965915748, 1.107309364962454, 0.0]\n",
      "Tf-idf for doc3 = [2.881285396591575, 0.0, 0.0, 1.107309364962454, 0.0]\n",
      "Tf-idf for query = [1.0804820237218407, 0.0, 1.410964047443681, 0.8304820237218405, 0.18424139854155155]\n",
      "Cosine similarity between query and document 1 = 0.6761047683328936\n",
      "Cosine similarity between query and document 2 = 0.9956182061125568\n",
      "Cosine similarity between query and document 3 = 0.66310492687862\n",
      "The relative ranking of the documents are D2 > D1 > D3\n"
     ]
    },
    {
     "data": {
      "image/png": "[encoded data removed]",
      "text/plain": [
       "<Figure size 1440x360 with 4 Axes>"
      ]
     },
     "metadata": {
      "needs_background": "light"
     },
     "output_type": "display_data"
    }
   ],
   "source": [
    "## Comparing  bags-of-words  with  tf-idf  weighting\n",
    "##--your-code-starts-here--##\n",
    "import matplotlib.pyplot as plt\n",
    "\n",
    "### a) ###\n",
    "l=['cat','dot','mammals','mouse','pet']\n",
    "df = [5,20,2,10,60]\n",
    "idf = []\n",
    "for i in range(len(df)):\n",
    "    idf.append(np.log2(1/(0.01*df[i])))\n",
    "print(\"idf for\",'cat','dot','mammals','mouse','and pet',\" = \",idf)\n",
    "    \n",
    "### b) ###\n",
    "d1 = ['cat','pet','pet','mouse','pet']\n",
    "d2 = ['cat','mouse','mammals']\n",
    "d3 = ['cat','cat','mouse']\n",
    "q = ['mouse','cat','pet','mammals']\n",
    "\n",
    "mer = [D1,D2,D3,query]\n",
    "file = ['doc1','doc2','doc3','query']\n",
    "tf = []\n",
    "for i in range (0,len(mer)):\n",
    "    tf_D = []\n",
    "    for j in range (0,len(l)):\n",
    "        tf_D.append(mer[i].count(l[j]) / float(len(mer[i])))\n",
    "    tf.append(tf_D)\n",
    "    print(\"Tf for\",file[i],'=',tf_D)\n",
    "### c) ###\n",
    "fig,ax = plt.subplots(1,4,figsize=(20,5))\n",
    "\n",
    "tf_idf = []\n",
    "for i in range (0,len(mer)):\n",
    "    tf_idf_D = []\n",
    "    for k in range (0,len(l)):\n",
    "        tf_idf_D.append(tf[i][k]*idf[k])\n",
    "    tf_idf.append(tf_idf_D)\n",
    "    print(\"Tf-idf for\",file[i],'=',tf_idf_D)\n",
    "    ax[i].set_title(\"Tf-idf \"+file[i])\n",
    "    ax[i].bar(l,tf_idf_D)\n",
    "### d) ###\n",
    "def cosine_similarity(a,b):\n",
    "    return np.dot(a,b)/(np.linalg.norm(a)*np.linalg.norm(b))\n",
    "for i in range(3):\n",
    "    score = cosine_similarity(tf_idf[i],tf_idf[3])\n",
    "    print(\"Cosine similarity between query and document\",i+1,\"=\",score)\n",
    "    \n",
    "### e) ###\n",
    "print(\"The relative ranking of the documents are D2 > D1 > D3\")\n",
    "##--your-code-ends-here--##"
   ]
  },
  {
   "cell_type": "markdown",
   "metadata": {},
   "source": [
    "## Exercise 2 - Precision  and  recall\n",
    "There is a database of 10000 images and a user, who is only interested in images which contain a car. It is known that there are 500 such images in the database. An  automatic image retrieval system retrieves 300 car images and 50 other images from the database. Determine and report the precision and recall of the retrieval  system in this particular case.<br> \n",
    "(Hint: Precision and recall are explained on slide 67 of Lecture 6 and there is a good explanation also in Wikipedia.)"
   ]
  },
  {
   "cell_type": "markdown",
   "metadata": {},
   "source": [
    "Type your answer here:\n",
    "\n",
    "precision = $\\frac{relevant}{returned} = \\frac{300}{300 + 50} = 0.857$\n",
    "\n",
    "\n",
    "recall = $\\frac{#relevant}/{#totalـrelevant} = \\frac{300}{500} = 0.600$"
   ]
  },
  {
   "cell_type": "markdown",
   "metadata": {},
   "source": [
    "## Exercise 3 - VGG practical on object instance recognition\n",
    "See the questions in part[1-3].ipynb and write your answers here.\n",
    "\n",
    "Part1:\n",
    "Stage I.A (two questions)\n",
    "Stage I.B (two questions)\n",
    "Stage I.C (one question)\n",
    "\n",
    "Part2 (one question)\n",
    "\n",
    "Part3:\n",
    "Stage III.A (three questions)\n",
    "Stage III.B (one question)\n",
    "Stage III.C (two questions)\n",
    "\n",
    "Answering questions in part 1 corresponds to one bonus point and parts 2 and 3 together correspond to one additional point. Hence, in total this third task is worth of 2 points, whereas the previous tasks (Exercise 1 and Exercise 2) are both worth of 1 point so that in total this homework round is worth of 4 points."
   ]
  },
  {
   "cell_type": "markdown",
   "metadata": {},
   "source": [
    "Type your answers here: \n",
    "\n",
    "## Part 1:\n",
    "### A -\n",
    "\n",
    "#### Q1: \n",
    "The parts of the building in the image which are darker, are less detected in contrast to the brighter sides, and the edge between these two parts is detected mostly.\n",
    "\n",
    "\n",
    "#### Q2: \n",
    "When we have detected so many dominant gradient orientations in one window , it is detected multiple times with distinct orientation.(when dominant orientations are more than 80% in gradient histogram). This structure can be seen in running detection on any image that has multiple different directions.\n",
    "\n",
    "\n",
    "### B -\n",
    "\n",
    "#### Q1: \n",
    "The descriptor must be very robust and distinctive to light, orientation, scale and other features.Because to be sure about the keypoints descriptor needs as much information as it can have to be distinctive.\n",
    "\n",
    "\n",
    "#### Q2: \n",
    "There are 2 problems, first is symmetric parts in one image and the second is light change. We can see that there are repetitive parts in the image because of the design so many of the features are the same.As a result there can be false matching when there are similar features in different parts. Also because of light change can be misleading . Also Nearest Neighbor Distance is sensitive to pixel intensity variations. We can find the NN Distance Ratio between the best and second best nearest neighbor matches, using threshold can be useful to remove false matches and select only the best (sure) matches.\n",
    "\n",
    "\n",
    "### C -\n",
    "\n",
    "#### Q1: \n",
    "Light difference can make some features look similar that are actually not, noise , not being distictive , or inherent similarity can cause the mismathces. To reduce mismatches we can use RANSAC  and find the proper geometric transofrmation.Using that, we can reject outliers that doesn't confirm the transformation, and this should remove most of the mismatches.\n",
    "\n",
    "\n",
    "## Part 2:\n",
    "\n",
    "#### Q1: \n",
    "First, we employ the Harris corner detector to capture features, benefiting from its ability to handle affine variations. Then, we use three matching points to calculate an affine transformation. Afterward, we check the SIFT feature matches using this transformation. If the results are not satisfactory, we revisit the step of estimating the affine transformation for improvement.\n",
    "\n",
    "## Part 3:\n",
    "\n",
    "### A -\n",
    "\n",
    "#### Q1: \n",
    "Significantly reducing the vocabulary size results in only a slight decrease in the number of inliers, maintaining the transformation computation's level of complexity.\n",
    "\n",
    "#### Q2: \n",
    "This is achievable because we can pre-compute the conversion of descriptors into visual words.\n",
    "\n",
    "#### Q3: \n",
    "Approximate speed enhancements can be derived as follows:\n",
    "\n",
    "For 10 images: 0.16 seconds\n",
    "\n",
    "For 100 images: 1.7 seconds\n",
    "\n",
    "For 1000 images: 16 seconds\n",
    "\n",
    "It's evident that the speedup is nearly directly proportional to the number of images used.\n",
    "\n",
    "### B - \n",
    "#### Q1:\n",
    "Since the top image is the same as the query image.\n",
    "\n",
    "\n",
    "### C -\n",
    "#### Q1:\n",
    "Since the score, here, represents the number of inlier words.\n",
    "\n",
    "#### Q2:\n",
    "The images that are not relevant have lower scores. Therefore, the retrieval results have improved after applying geometric verification.\n"
   ]
  }
 ],
 "metadata": {
  "kernelspec": {
   "display_name": "Python 3",
   "language": "python",
   "name": "python3"
  },
  "language_info": {
   "codemirror_mode": {
    "name": "ipython",
    "version": 3
   },
   "file_extension": ".py",
   "mimetype": "text/x-python",
   "name": "python",
   "nbconvert_exporter": "python",
   "pygments_lexer": "ipython3",
   "version": "3.10.8"
  },
  "varInspector": {
   "cols": {
    "lenName": 16,
    "lenType": 16,
    "lenVar": 40
   },
   "kernels_config": {
    "python": {
     "delete_cmd_postfix": "",
     "delete_cmd_prefix": "del ",
     "library": "var_list.py",
     "varRefreshCmd": "print(var_dic_list())"
    },
    "r": {
     "delete_cmd_postfix": ") ",
     "delete_cmd_prefix": "rm(",
     "library": "var_list.r",
     "varRefreshCmd": "cat(var_dic_list()) "
    }
   },
   "types_to_exclude": [
    "module",
    "function",
    "builtin_function_or_method",
    "instance",
    "_Feature"
   ],
   "window_display": false
  },
  "vscode": {
   "interpreter": {
    "hash": "31f2aee4e71d21fbe5cf8b01ff0e069b9275f58929596ceb00d14d90e3e16cd6"
   }
  }
 },
 "nbformat": 4,
 "nbformat_minor": 4
}
